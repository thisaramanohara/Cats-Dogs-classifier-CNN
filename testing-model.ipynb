{
 "cells": [
  {
   "cell_type": "code",
   "execution_count": null,
   "metadata": {},
   "outputs": [],
   "source": [
    "import cv2\n",
    "import numpy as np\n",
    "import tensorflow as tf"
   ]
  },
  {
   "cell_type": "code",
   "execution_count": null,
   "metadata": {},
   "outputs": [],
   "source": [
    "model=tf.keras.models.load_model('cat_vs_dog_with_VGG16.h5')\n",
    "img=cv2.imread('ssss.jpg')\n",
    "img=cv2.resize(img,(224,224))\n",
    "img=np.reshape(img,(1,224,224,3))\n",
    "pred=model.predict(img)\n",
    "idx=np.argmax(pred)\n",
    "if(idx==0):\n",
    "    print('its a cat')\n",
    "else:\n",
    "    print('its a dog')"
   ]
  }
 ],
 "metadata": {
  "kernelspec": {
   "display_name": "Python 3",
   "language": "python",
   "name": "python3"
  },
  "language_info": {
   "codemirror_mode": {
    "name": "ipython",
    "version": 3
   },
   "file_extension": ".py",
   "mimetype": "text/x-python",
   "name": "python",
   "nbconvert_exporter": "python",
   "pygments_lexer": "ipython3",
   "version": "3.7.9"
  }
 },
 "nbformat": 4,
 "nbformat_minor": 4
}
